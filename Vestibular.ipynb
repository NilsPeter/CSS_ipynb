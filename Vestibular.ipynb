{
 "cells": [
  {
   "cell_type": "markdown",
   "metadata": {},
   "source": [
    "# Simulation of the Vestibular System\n",
    "\n",
    "## Overview\n",
    "\n",
    "* 3 DOF Translations -> Otoliths (Utricle, Saccule) \n",
    "* 3 DOF Rotations -> 3 Semicircular Canals "
   ]
  },
  {
   "cell_type": "markdown",
   "metadata": {},
   "source": [
    "## Semicircular Canals\n",
    "\n",
    "Each canal can be described by a vector perpendicular to the surface spanned by\n",
    "the canal $\\vec{n}$\n",
    "\n",
    "\\begin{equation}\n",
    "    stim = \\vec{\\omega} \\cdot \\vec{n}\n",
    "\\end{equation}\n",
    "\n",
    "$\\vec{\\omega}$ ... relativ to the *head*!\n",
    "\n",
    "### Orientation of all 3 Canals, on the Right Side of the Head\n"
   ]
  },
  {
   "cell_type": "code",
   "execution_count": 12,
   "metadata": {
    "collapsed": true
   },
   "outputs": [],
   "source": [
    "%matplotlib inline\n",
    "import numpy as np\n",
    "import matplotlib.pyplot as plt"
   ]
  },
  {
   "cell_type": "code",
   "execution_count": 13,
   "metadata": {
    "collapsed": false
   },
   "outputs": [
    {
     "name": "stdout",
     "output_type": "stream",
     "text": [
      "The matrix rows describe horizontal, anterior, and posterior canal orientation\n",
      "[[ 0.365  0.158 -0.905]\n",
      " [ 0.652  0.753 -0.017]\n",
      " [ 0.757 -0.561  0.32 ]]\n"
     ]
    }
   ],
   "source": [
    "Canals = {'info': 'The matrix rows describe horizontal, anterior, and posterior canal orientation',\n",
    " 'right': np.array([[0.365, 0.158, -0.905], \n",
    "    [0.652, 0.753, -0.017],\n",
    "    [0.757, -0.561, 0.320]]),\n",
    " 'left': np.array([[-0.365, 0.158, 0.905],\n",
    "    [-0.652, 0.753, 0.017],\n",
    "    [-0.757, -0.561, -0.320]])}\n",
    "\n",
    "print(Canals['info'])\n",
    "print(Canals['right'])"
   ]
  },
  {
   "cell_type": "markdown",
   "metadata": {},
   "source": [
    "### Example: Stimulation of the Right Horizontal Canal, by Rotation to the Right, with 100 deg/2"
   ]
  },
  {
   "cell_type": "code",
   "execution_count": 14,
   "metadata": {
    "collapsed": false
   },
   "outputs": [
    {
     "name": "stdout",
     "output_type": "stream",
     "text": [
      "90.5\n"
     ]
    }
   ],
   "source": [
    "omega = np.r_[0, 0, -100]\n",
    "stim = omega @ Canals['right'][0]\n",
    "print(stim)"
   ]
  },
  {
   "cell_type": "markdown",
   "metadata": {},
   "source": [
    "### Dynamics\n",
    "\n",
    "The semicircular canals can be well approximated by the equations governing a *Damped Oscillator*.\n",
    "\n",
    "* x ... position of mass in space\n",
    "* b ... position of base\n",
    "* k ... spring constant\n",
    "* $\\delta = b - x$ ... difference\n",
    "\n",
    "\\begin{equation}\n",
    "    m \\ddot{x} = r \\dot{\\delta} + k * \\delta\n",
    "\\end{equation}\n",
    "\\begin{equation}\n",
    "    m \\ddot{b} = m \\ddot{\\delta} + r \\dot{\\delta} + k * \\delta\n",
    "\\end{equation}\n",
    "\n",
    "With a Laplace transformation, where\n",
    "\n",
    "\\begin{equation}\n",
    "    \\frac{dx}{dt} \\rightarrow s \\tilde{X} - x(0)\n",
    "\\end{equation}\n",
    "this leads to\n",
    "\n",
    "\\begin{equation}\n",
    "    \\frac{\\Delta}{sB} = \\frac{m * s}{m s^2 + r s + k}\n",
    "\\end{equation}\n",
    "\n",
    "## Otoliths\n",
    "\n",
    "\\begin{equation}\n",
    "    \\vec{F}=\\overrightarrow{GIF} \\cdot \\vec{n}\n",
    "\\end{equation}\n",
    "\n",
    "\\begin{equation}\n",
    "    \\overrightarrow{GIF} = \\vec{g} + \\frac{d^2\\vec{x}}{dt^2}\n",
    "\\end{equation}\n",
    "\n",
    "$\\vec{n}$ ... Sensitivity vector\n",
    "\n",
    "- For the utricle, the sensitivity vectors lie approx. in the horizontal plane\n",
    "- For the saccule, the sensitivity vectors lie approx. in the vertical plane\n",
    "\n",
    "\n",
    "### Transduction\n",
    "\n",
    "Without stimulation, haircells have a *resting firing rate* of approx 100 Hz.\n",
    "To achieve good bidirectional response, otoliths and canals work in a *push-pull*\n",
    "fashion. This also explains the orientation of the canals.\n",
    "\n",
    "## Analysis\n",
    "\n",
    "### Position\n",
    "\n",
    "* Select a *reference position*\n",
    "* Define a coordinate system (we always use *right-handed* coordinate systems)\n",
    "* Take the (discrete) velocity v(t)\n",
    "\n",
    "\\begin{equation}\n",
    "    \\vec{x}(t) = \\vec{x}(0) + \\sum_{i=1}^{n}{\\vec{v}(t_i) dt}\n",
    "\\end{equation}\n",
    "\n",
    "### Orientation\n",
    "\n",
    "* Select a *reference orientation*\n",
    "* Define a coordinate system (we always use *right-handed* coordinate systems)\n",
    "* Take the (discrete) velocity v(t)\n",
    "\n",
    "\\begin{equation}\n",
    "    q(t) = q(0) \\circ \\prod_{i=1}^{n}{q(t_i) dt}\n",
    "\\end{equation}"
   ]
  },
  {
   "cell_type": "code",
   "execution_count": null,
   "metadata": {
    "collapsed": true
   },
   "outputs": [],
   "source": []
  },
  {
   "cell_type": "code",
   "execution_count": null,
   "metadata": {
    "collapsed": true
   },
   "outputs": [],
   "source": []
  }
 ],
 "metadata": {
  "kernelspec": {
   "display_name": "Python 3",
   "language": "python",
   "name": "python3"
  },
  "language_info": {
   "codemirror_mode": {
    "name": "ipython",
    "version": 3
   },
   "file_extension": ".py",
   "mimetype": "text/x-python",
   "name": "python",
   "nbconvert_exporter": "python",
   "pygments_lexer": "ipython3",
   "version": "3.5.1"
  }
 },
 "nbformat": 4,
 "nbformat_minor": 0
}
