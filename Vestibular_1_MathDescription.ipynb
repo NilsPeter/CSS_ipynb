{
 "cells": [
  {
   "cell_type": "markdown",
   "metadata": {},
   "source": [
    "# The Vestibular System 1: Mathematical Description\n",
    "\n",
    "* 3 DOF Translations -> Otoliths (Utricle, Saccule) \n",
    "* 3 DOF Rotations -> 3 Semicircular Canals\n",
    "\n",
    "<img src=\"data/images/labyrinth_labelled.png\", width=350px>"
   ]
  },
  {
   "cell_type": "markdown",
   "metadata": {},
   "source": [
    "## Semicircular Canals\n",
    "\n",
    "The three semicircular canals (SCCs) on each side of the head transduce angular velocity. To describe this transduction mathematically, each canal can be described by a vector perpendicular to the surface spanned by\n",
    "the canal $\\vec{n}$.\n",
    "\n",
    "### Orientation of all 3 Canals, on the Right Side of the Head\n"
   ]
  },
  {
   "cell_type": "code",
   "execution_count": 2,
   "metadata": {
    "collapsed": false
   },
   "outputs": [
    {
     "data": {
      "text/plain": [
       "'%.2f'"
      ]
     },
     "execution_count": 2,
     "metadata": {},
     "output_type": "execute_result"
    }
   ],
   "source": [
    "# Import the required packages\n",
    "%matplotlib inline\n",
    "import numpy as np\n",
    "import matplotlib.pyplot as plt\n",
    "\n",
    "# Make the display easy to read\n",
    "% precision 2"
   ]
  },
  {
   "cell_type": "code",
   "execution_count": 3,
   "metadata": {
    "collapsed": false
   },
   "outputs": [
    {
     "name": "stdout",
     "output_type": "stream",
     "text": [
      "The matrix rows describe horizontal, anterior, and posterior canal orientation\n",
      "[[ 0.37  0.16 -0.92]\n",
      " [ 0.65  0.76 -0.02]\n",
      " [ 0.76 -0.56  0.32]]\n"
     ]
    }
   ],
   "source": [
    "# Enter the information for the canalas into a Python dictionary.\n",
    "# The data are taken from Blanks RH, Curthoys IS, and Markham CH. Planar relationships of\n",
    "# the semicircular canals in man. Acta Otolaryngol  80:185-196, 1975.\n",
    "Canals = {'info': 'The matrix rows describe horizontal, anterior, and posterior canal orientation',\n",
    " 'right': np.array(\n",
    "        [[0.365,  0.158, -0.905], \n",
    "         [0.652,  0.753, -0.017],\n",
    "         [0.757, -0.561,  0.320]]),\n",
    " 'left': np.array(\n",
    "        [[-0.365,  0.158,  0.905],\n",
    "         [-0.652,  0.753,  0.017],\n",
    "         [-0.757, -0.561, -0.320]])}\n",
    "\n",
    "# Normalize these vectors (just a small correction):\n",
    "for side in ['right', 'left']:\n",
    "    Canals[side] = (Canals[side].T / np.sqrt(np.sum(Canals[side]**2, axis=1))).T\n",
    "\n",
    "# Show the results for the right SCCs:\n",
    "print(Canals['info'])\n",
    "print(Canals['right'])"
   ]
  },
  {
   "cell_type": "markdown",
   "metadata": {},
   "source": [
    "# Example: Stimulation of the Right Horizontal Canal, by Rotation to the Right, with 100 deg/2\n",
    "\n",
    "\\begin{equation}\n",
    "    stim = \\vec{\\omega} \\cdot \\vec{n}\n",
    "\\end{equation}\n",
    "\n",
    "$\\vec{\\omega}$ ... relativ to the *head*!\n",
    "\n",
    "<img src=\"data/images/SCC_stimulation_with_omega_.jpg\", width=150px>\n",
    "\n"
   ]
  },
  {
   "cell_type": "code",
   "execution_count": 9,
   "metadata": {
    "collapsed": false
   },
   "outputs": [
    {
     "name": "stdout",
     "output_type": "stream",
     "text": [
      "The angular velocity sensed by the right horizontal canal is 91.5 deg/s.\n"
     ]
    }
   ],
   "source": [
    "omega = np.r_[0, 0, -100]\n",
    "stim = omega @ Canals['right'][0]\n",
    "\n",
    "# Before Python 3.5:\n",
    "# stim = np.dot(omega, Canals['right'][0])\n",
    "\n",
    "print('The angular velocity sensed by the right horizontal canal is {0:3.1f} deg/s.'.format(stim))"
   ]
  },
  {
   "cell_type": "markdown",
   "metadata": {},
   "source": [
    "<font color='red'>\n",
    "<img src=\"data/images/matlab_logo_s.jpg\", width=50px, align='left'>*Matlab Equivalent Commands*:\n",
    "</font>\n",
    "\n",
    "    % Define the semicircular canals\n",
    "    Canals(1).side = 'right';\n",
    "    Canals(1).rows = {'horizontal canal'; 'anterior canal'; 'posterior canal'};\n",
    "    Canals(1).orientation = [\t.365\t .158\t-.905\n",
    "        .652\t .753\t-.017\n",
    "        .757\t-.561\t .320];\n",
    "    Canals(2).side = 'left';\n",
    "    Canals(2).rows = {'hor'; 'ant'; 'post'};\n",
    "    Canals(2).orientation = [-.365\t  .158 \t .905\n",
    "        -.652\t  .753 \t .017\n",
    "        -.757 \t -.561\t-.320];\n",
    "\n",
    "    % Normalize the canal-vectors (only a tiny correction):\n",
    "    for ii = 1:2\n",
    "        for jj = 1:3\n",
    "            Canals(ii).orientation(jj,:) = ...\n",
    "                Canals(ii).orientation(jj,:) / norm( Canals(ii).orientation(jj,:) );\n",
    "        end\n",
    "    end\n",
    "\n",
    "    % Calculate the stimulation\n",
    "    omega = [0, 0, -100];\n",
    "    stim = omega * Canals(1).orientation(1,:).T;"
   ]
  },
  {
   "cell_type": "markdown",
   "metadata": {},
   "source": [
    "## Otoliths\n",
    "\n",
    "The description of the otoliths is more involved, since each haircell on the otolith membrane senses the local strength of the gravito-inertal force. The direction of maximum sensitivity can for each haircell be described by a *Sensitivity Vector* $\\vec{n}$.\n",
    "\n",
    "<img src=\"data/images/UtriShapeHair.jpg\", width=600px>\n",
    "\n",
    "\n",
    "\\begin{equation}\n",
    "    \\overrightarrow{GIF} = \\vec{g} + \\frac{d^2\\vec{x}}{dt^2}\n",
    "\\end{equation}\n",
    "\n",
    "\\begin{equation}\n",
    "    stim \\approx \\overrightarrow{GIF} \\cdot \\vec{n}\n",
    "\\end{equation}\n",
    "\n",
    "\n",
    "- For the utricle, the sensitivity vectors lie approx. in the horizontal plane\n",
    "- For the saccule, the sensitivity vectors lie approx. in the vertical plane\n"
   ]
  }
 ],
 "metadata": {
  "kernelspec": {
   "display_name": "Python 3",
   "language": "python",
   "name": "python3"
  },
  "language_info": {
   "codemirror_mode": {
    "name": "ipython",
    "version": 3
   },
   "file_extension": ".py",
   "mimetype": "text/x-python",
   "name": "python",
   "nbconvert_exporter": "python",
   "pygments_lexer": "ipython3",
   "version": "3.5.1"
  }
 },
 "nbformat": 4,
 "nbformat_minor": 0
}
