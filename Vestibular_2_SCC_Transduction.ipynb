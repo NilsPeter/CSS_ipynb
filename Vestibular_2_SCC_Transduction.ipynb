{
 "cells": [
  {
   "cell_type": "markdown",
   "metadata": {},
   "source": [
    "# The Vestibular System - Part 2: \n",
    "# Sensory Transduction and Information Processing\n",
    "\n",
    "\n",
    "<img src=\"data/images/labyrinth_labelled.png\", width=350px>"
   ]
  },
  {
   "cell_type": "markdown",
   "metadata": {},
   "source": [
    "## Preliminaries"
   ]
  },
  {
   "cell_type": "code",
   "execution_count": 96,
   "metadata": {
    "collapsed": false
   },
   "outputs": [
    {
     "data": {
      "text/plain": [
       "'%.2f'"
      ]
     },
     "execution_count": 96,
     "metadata": {},
     "output_type": "execute_result"
    }
   ],
   "source": [
    "# Import the required packages\n",
    "%matplotlib inline\n",
    "import numpy as np\n",
    "import matplotlib.pyplot as plt\n",
    "from scipy import signal\n",
    "\n",
    "# Make the display easy to read\n",
    "% precision 2"
   ]
  },
  {
   "cell_type": "markdown",
   "metadata": {},
   "source": [
    "## Dynamics\n",
    "\n",
    "### Damped Oscillator\n",
    "\n",
    "The deflection of the cupula, the sensory element of the SCCs, as a function of head movement can be well approximated by the equations governing a *Damped Oscillator*.\n",
    "(Details can be found in https://en.wikibooks.org/wiki/Sensory_Systems/Computer_Models/Vestibular_Simulation)\n",
    "\n",
    "<img src=\"data/images/1D_movement.png\", width=300px>\n",
    "\n",
    "* x ... position of mass in space\n",
    "* b ... position of base\n",
    "* k ... spring constant\n",
    "* $\\delta = b - x$ ... difference\n",
    "\n",
    "\\begin{equation}\n",
    "    m \\ddot{x} = r \\dot{\\delta} + k * \\delta\n",
    "\\end{equation}\n",
    "\\begin{equation}\n",
    "    m \\ddot{b} = m \\ddot{\\delta} + r \\dot{\\delta} + k * \\delta\n",
    "\\end{equation}"
   ]
  },
  {
   "cell_type": "markdown",
   "metadata": {},
   "source": [
    "### Laplace Transformation\n",
    "\n",
    "Differential equations like the one above can be converted into - easily solvable - algebraic equations, by making use of the *Laplace Transofmation*. Given any time course f(t), its Laplace transform F(s) is\n",
    "\n",
    "\\begin{equation}\n",
    "  F(s) = \\int\\limits_0^\\infty  {f(t) \\cdot {e^{ - st}}dt}\n",
    "\\end{equation}\n",
    "\t\n",
    "while its inverse is\n",
    "\n",
    "\\begin{equation}\n",
    "  f(t) = \\int\\limits_S {F(s) \\cdot {e^{st}}ds}\n",
    "\\end{equation}\n",
    "\n",
    "where the integration is over the s-plane, S. s is sometimes referred to as *complex frequency*.\n",
    "\n",
    "Laplace Transformations are a generalization of Fourier Transformation. With Fourier Transformations we have dealt only with sine waves, $e^{j \\omega t}$ . Put another way, we have restricted $s$ to $j \\omega$ so that est was restricted to $e^{j \\omega t}$. But this is unnecessary, we can let $s$ enjoy being fully complex or $s = \\sigma + j \\omega$ . This greatly expands the kinds of functions that $e^{st}$ can represent.\n"
   ]
  },
  {
   "cell_type": "markdown",
   "metadata": {},
   "source": [
    "With a Laplace transformation, where\n",
    "\n",
    "\\begin{equation}\n",
    "    \\frac{dx}{dt} \\rightarrow s \\tilde{X} - x(0)\n",
    "\\end{equation}\n",
    "the differntial equation above is transformed into\n",
    "\n",
    "\\begin{equation}\n",
    "    \\frac{\\delta}{sB} = \\frac{m * s}{m s^2 + r s + k}\n",
    "\\end{equation}\n",
    "\n",
    "#### Example: Kick a Damped Oscillator"
   ]
  },
  {
   "cell_type": "code",
   "execution_count": 1,
   "metadata": {
    "collapsed": false
   },
   "outputs": [
    {
     "ename": "NameError",
     "evalue": "name 'np' is not defined",
     "output_type": "error",
     "traceback": [
      "\u001b[1;31m---------------------------------------------------------------------------\u001b[0m",
      "\u001b[1;31mNameError\u001b[0m                                 Traceback (most recent call last)",
      "\u001b[1;32m<ipython-input-1-f24b58665f17>\u001b[0m in \u001b[0;36m<module>\u001b[1;34m()\u001b[0m\n\u001b[0;32m      9\u001b[0m \u001b[1;33m\u001b[0m\u001b[0m\n\u001b[0;32m     10\u001b[0m \u001b[1;31m# Define the input\u001b[0m\u001b[1;33m\u001b[0m\u001b[1;33m\u001b[0m\u001b[0m\n\u001b[1;32m---> 11\u001b[1;33m \u001b[0mt\u001b[0m \u001b[1;33m=\u001b[0m \u001b[0mnp\u001b[0m\u001b[1;33m.\u001b[0m\u001b[0marange\u001b[0m\u001b[1;33m(\u001b[0m\u001b[1;36m0\u001b[0m\u001b[1;33m,\u001b[0m \u001b[1;36m30\u001b[0m\u001b[1;33m,\u001b[0m \u001b[1;36m0.1\u001b[0m\u001b[1;33m)\u001b[0m\u001b[1;33m\u001b[0m\u001b[0m\n\u001b[0m\u001b[0;32m     12\u001b[0m \u001b[0mx\u001b[0m \u001b[1;33m=\u001b[0m \u001b[0mnp\u001b[0m\u001b[1;33m.\u001b[0m\u001b[0mzeros_like\u001b[0m\u001b[1;33m(\u001b[0m\u001b[0mt\u001b[0m\u001b[1;33m)\u001b[0m\u001b[1;33m\u001b[0m\u001b[0m\n\u001b[0;32m     13\u001b[0m \u001b[0mx\u001b[0m\u001b[1;33m[\u001b[0m\u001b[0mt\u001b[0m\u001b[1;33m>\u001b[0m\u001b[1;36m1\u001b[0m\u001b[1;33m]\u001b[0m \u001b[1;33m=\u001b[0m \u001b[1;36m1\u001b[0m\u001b[1;33m\u001b[0m\u001b[0m\n",
      "\u001b[1;31mNameError\u001b[0m: name 'np' is not defined"
     ]
    }
   ],
   "source": [
    "# Import the required modules\n",
    "from scipy import signal\n",
    "\n",
    "# Define the system\n",
    "m, r, k = 1, 1, 0.1\n",
    "num = [m, 0]\n",
    "den = [m, r, k]\n",
    "system = signal.lti(num, den)\n",
    "\n",
    "# Define the input\n",
    "t = np.arange(0, 30, 0.1)\n",
    "x = np.zeros_like(t)\n",
    "x[t>1] = 1\n",
    "\n",
    "# Simulate the system response\n",
    "tout, outSignal, xout = signal.lsim(system, x, t)\n",
    "\n",
    "# Plot the output\n",
    "plt.plot(t, x, label='Movement Base')\n",
    "plt.plot(tout, outSignal, label='Displacement')\n",
    "plt.legend()\n",
    "plt.xlabel('Time [sec]')\n",
    "plt.ylabel('Deflection')\n",
    "plt.ylim(-0.05, 1.05)\n",
    "plt.axhline(0, linestyle='--')"
   ]
  },
  {
   "cell_type": "markdown",
   "metadata": {},
   "source": [
    "### Canal Dynamics\n",
    "\n",
    "It can be shown that for typical head movements (i.e. movements with frequency components from 0.1 - 10 Hz), the deflection of the cupula is proportional to the head velocity ( https://en.wikibooks.org/wiki/Sensory_Systems/Computer_Models/Vestibular_Simulation )\n",
    "\n",
    "<img src=\"data/images/cupula_deflected.png\", width=200px>"
   ]
  },
  {
   "cell_type": "code",
   "execution_count": 83,
   "metadata": {
    "collapsed": false
   },
   "outputs": [
    {
     "data": {
      "text/plain": [
       "<matplotlib.text.Text at 0xf449240>"
      ]
     },
     "execution_count": 83,
     "metadata": {},
     "output_type": "execute_result"
    },
    {
     "data": {
      "image/png": "[encoded data removed]",
      "text/plain": [
       "<matplotlib.figure.Figure at 0xf1260f0>"
      ]
     },
     "metadata": {},
     "output_type": "display_data"
    }
   ],
   "source": [
    "# SCC dynamics\n",
    "T1 = 0.01\n",
    "T2 = 5\n",
    "num = [T1*T2, 0]\n",
    "den = [T1*T2, T1+T2, 1]\n",
    "\n",
    "scc = signal.lti(num,den)\n",
    "w, mag, phase = signal.bode(scc)\n",
    "\n",
    "fig, axs = plt.subplots(2,1)\n",
    "axs[0].semilogx(w, mag)    # Bode magnitude plot\n",
    "axs[0].set_ylabel('Gain [dB]')\n",
    "axs[1].semilogx(w, phase)  # Bode phase plot\n",
    "axs[1].set_ylabel('Phase [deg]')\n",
    "axs[1].set_xlabel('Freqency [Hz]')"
   ]
  },
  {
   "cell_type": "markdown",
   "metadata": {},
   "source": [
    "## Coding of Information in Neural Systems\n",
    "\n",
    "1. Which neurons are active\n",
    "2. Synchronicity between neurons\n",
    "3. Frequency\n",
    "4. Activity only with special stimulus characteristics\n",
    "5. Time interval between action potentials\n",
    "\n",
    "... but NOT by amplitude modulation!\n",
    "\n",
    "ad 1) Stimulation of one semicircular canal elicits eye movement and movement perception in the plane of that canal.\n",
    "\n",
    "ad 2) For example in the auditory system: * The Party Problem* - how do you seperate a voice from the background noise?\n",
    "\n",
    "ad 3 and 4) *Tonic cells* and *phasic cells*: *tonic cells* are always active (e.g. indicating the tilt of the head), while *phasic cells* indicate a change, e.g. movement of the head.\n",
    "\n",
    "ad 5) Important for the formation of new synapses: Hebbian rule - *\"What fires together, wired together.\"*"
   ]
  },
  {
   "cell_type": "markdown",
   "metadata": {
    "collapsed": true
   },
   "source": [
    "## Secundary Information Processing\n",
    "\n",
    "### Velocity Storage\n",
    "Experiments have revealed that the decay of the slow-phase eye velocity (and the corresponding perception of rotation) is significantly slower than the return of the cupula to its resting state.\n",
    "\n",
    "This extension of the time constant of the eye velocity can be simulated with a negative feedback loop:\n",
    "\n",
    "<img src=\"data/images/Feedback_StateEstimation.png\", width=500px>\n",
    "\n",
    "\\begin{gathered}\n",
    "  \\hat \\omega  = ({S_{scc}} \\cdot \\omega ) \\cdot k - {{\\hat S}_{scc}} \\cdot \\hat \\omega  \\cdot k \\hfill \\\\\n",
    "  \\hat \\omega  = \\frac{{({S_{scc}} \\cdot \\omega )}}{{{{\\hat S}_{scc}} + \\frac{1}{k}}}\\,\\,\\xrightarrow{{k \\to \\infty }}\\,\\,\\omega  \\hfill \\\\ \n",
    "\\end{gathered}\n",
    "\n",
    "Such systems can be simulated very elegantely in *Matlab Simulink*\n",
    "\n",
    "<img src=\"data/images/Feedback.png\", width=500px>\n",
    "\n",
    "or with the *Control System Toolbox*:"
   ]
  },
  {
   "cell_type": "code",
   "execution_count": 85,
   "metadata": {
    "collapsed": false
   },
   "outputs": [],
   "source": [
    "tout, outSignal, xout = signal.lsim(scc, x, t)"
   ]
  },
  {
   "cell_type": "code",
   "execution_count": 95,
   "metadata": {
    "collapsed": false
   },
   "outputs": [
    {
     "data": {
      "text/plain": [
       "<matplotlib.legend.Legend at 0x10960ba8>"
      ]
     },
     "execution_count": 95,
     "metadata": {},
     "output_type": "execute_result"
    },
    {
     "data": {
      "image/png": "[encoded data removed]",
      "text/plain": [
       "<matplotlib.figure.Figure at 0x1082f8d0>"
      ]
     },
     "metadata": {},
     "output_type": "display_data"
    }
   ],
   "source": [
    "# The control package has to be installed manually.\n",
    "# Unfortunately, it's syntax is slightly different from the one in scipy.signal\n",
    "import control\n",
    "\n",
    "scc = control.tf(num,den)\n",
    "k = 100\n",
    "feedback =control.series(scc, control.feedback(k, scc, sign=-1))\n",
    "t_fb, x_fb = control.step_response(feedback)\n",
    "plt.plot(tout, outSignal/np.max(outSignal), label='Cupula Displacement')\n",
    "plt.plot(t_fb+1, x_fb/np.max(x_fb), label='Eye Velocity')\n",
    "plt.xlim(0, 40)\n",
    "plt.xlabel('Time [sec]')\n",
    "plt.ylabel('Normalized Responses')\n",
    "plt.legend()"
   ]
  },
  {
   "cell_type": "markdown",
   "metadata": {},
   "source": [
    "There exists physiological confirmation for the actual existance of such feedback loops: when the *corpus callosum* is severed, or in patients with *unilateral vestibular deafferentation*, the time constant of the eye velocity corresponds approximatley"
   ]
  },
  {
   "cell_type": "markdown",
   "metadata": {},
   "source": [
    "### Neural Integrator\n",
    "\n",
    "Healthy humans are also able to move the eye into an eccentric eye position - and keep them there:\n",
    "\n",
    "<img src=\"data/images/Neural_Integrator.png\", width=500px>\n",
    "\n",
    "To generate the constant neural input required to *keep* the eye in an eccentric position, we need a *neural integrator* to obtain an *eye position* signal:\n",
    "\n",
    "<img src=\"data/images/Neural-Integrator.gif\", width=500px>\n",
    "\n",
    "For horizontal eye movements, this integrator can be found in the *nucleus prepositus hypoglossi*; and for vertical/torsional eye movements, this integrator is located in the *nucleus of Cajal*.\n",
    "\n",
    "\n",
    "### Push-Pull Principle\n",
    "\n",
    "Without stimulation, haircells have a *resting firing rate* of approx 100 Hz.\n",
    "To achieve good bidirectional response, otoliths and canals work in a *push-pull*\n",
    "fashion. Activation of a canal on one side of the leg always inhibits the corresponding canal on the contralateral side. Comparison of the two canals determines the perception of rotation, with a linear response in both directions.\n",
    "It is also explains the geometric arrangement of the six canals.\n",
    "\n",
    "<img src=\"data/images/Semicircular_Canals.png\", width=250px>\n",
    "\n",
    "### Convergence\n",
    "\n",
    "Some of the more complex properties of the vestibular system can be explained by the *spatio-temporal convergence* of vestibular signals in the vestibular nucleus (in the brainstem):\n",
    "\n",
    "<img src=\"data/images/oto_canal_convergence.png\", width=500px>\n",
    "\n",
    "This feature can explain for example the generation of continuous compensatory eye movements during rotation about an earth-horizontal axis.\n"
   ]
  },
  {
   "cell_type": "markdown",
   "metadata": {},
   "source": [
    "## Analysis\n",
    "\n",
    "### Position from acceleration\n",
    "\n",
    "* Select a *reference position*\n",
    "* Define a coordinate system (typically a *right-handed* coordinate systems)\n",
    "* Take the (discrete) velocity v(t)\n",
    "\n",
    "\\begin{equation}\n",
    "    \\vec{x}(t) = \\vec{x}(0) + \\sum_{i=1}^{n}{\\vec{v}(t_i) dt}\n",
    "\\end{equation}"
   ]
  },
  {
   "cell_type": "code",
   "execution_count": 106,
   "metadata": {
    "collapsed": false
   },
   "outputs": [
    {
     "data": {
      "text/plain": [
       "<matplotlib.text.Text at 0x10b8c860>"
      ]
     },
     "execution_count": 106,
     "metadata": {},
     "output_type": "execute_result"
    },
    {
     "data": {
      "image/png": "[encoded data removed]",
      "text/plain": [
       "<matplotlib.figure.Figure at 0x10a6aeb8>"
      ]
     },
     "metadata": {},
     "output_type": "display_data"
    }
   ],
   "source": [
    "# For example, calculate the position from a velocity step\n",
    "from scipy.integrate import cumtrapz\n",
    "\n",
    "# Set the experimenal parameters\n",
    "rate = 50     # sample rate, in [Hz]\n",
    "duration = 10  # [sec]\n",
    "vel_max = 100\n",
    "x0 = 0         # Initial potiion\n",
    "\n",
    "# Simulate the velocity step\n",
    "t = np.arange(duration*rate)/rate\n",
    "vel = np.zeros(duration*rate)\n",
    "vel[2*rate:]= vel_max  # deg/sec\n",
    "vel[rate:2*rate] = np.linspace(0, vel_max, rate)\n",
    "\n",
    "# Calculate the corresponding position in space\n",
    "pos = cumtrapz(vel, dx=1/rate, initial=x0)\n",
    "\n",
    "fig, axs = plt.subplots(2,1)\n",
    "axs[0].plot(t, vel)\n",
    "axs[0].set_ylabel('Velocity [m/s]')\n",
    "axs[1].plot(t, pos)\n",
    "axs[1].set_ylabel('Positoin [m]')\n",
    "axs[1].set_xlabel('Time [sec]')"
   ]
  },
  {
   "cell_type": "markdown",
   "metadata": {},
   "source": [
    "### Orientation from Angular Velocity\n",
    "\n",
    "* Get to understand what *quaternions* are.\n",
    "* Define a coordinate system (typically *right-handed* coordinate systems).\n",
    "* Select a *reference orientation*, described by the quaternion $q_0$.\n",
    "* Take the (discrete) velocity $\\vec{\\omega}(t)$.\n",
    "* If the velocity describes the movement in a *body-centered coordinate system*, the orientation as a function of time $q(t)$ is given by\n",
    "\n",
    "\\begin{equation}\n",
    "    q(t) = q(0) \\circ \\prod_{i=1}^{n}{q(t_i) dt}\n",
    "\\end{equation}\n",
    "\n",
    "A *Python* implementation of this equation is implemented in the function $thLib.quat.vel2quat()$"
   ]
  },
  {
   "cell_type": "markdown",
   "metadata": {},
   "source": [
    "<img src=\"data/images/Backward.png\", align='left'> [Vestibular_1_MathDescription](Vestibular_1_MathDescription.ipynb)"
   ]
  },
  {
   "cell_type": "markdown",
   "metadata": {
    "collapsed": true
   },
   "source": [
    "    Author: Thomas Haslwanter\n",
    "    Date: April 4, 2016\n",
    "    Ver: 1.0\n",
    "\n",
    "<img src=\"data/images/CCA_40.png\">\n",
    "*The Vestibular System*  is licensed under a Creative Commons Attribution 4.0 International License."
   ]
  },
  {
   "cell_type": "code",
   "execution_count": null,
   "metadata": {
    "collapsed": true
   },
   "outputs": [],
   "source": []
  }
 ],
 "metadata": {
  "kernelspec": {
   "display_name": "Python 3",
   "language": "python",
   "name": "python3"
  },
  "language_info": {
   "codemirror_mode": {
    "name": "ipython",
    "version": 3
   },
   "file_extension": ".py",
   "mimetype": "text/x-python",
   "name": "python",
   "nbconvert_exporter": "python",
   "pygments_lexer": "ipython3",
   "version": "3.5.1"
  }
 },
 "nbformat": 4,
 "nbformat_minor": 0
}
