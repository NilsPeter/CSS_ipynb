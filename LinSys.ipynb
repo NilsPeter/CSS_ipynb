{
 "cells": [
  {
   "cell_type": "markdown",
   "metadata": {},
   "source": [
    "# Simulations of Linear Systems"
   ]
  },
  {
   "cell_type": "markdown",
   "metadata": {},
   "source": [
    "    Author: Thomas Haslwanter\n",
    "    Date: March 23, 2015\n",
    "    Ver: 1.0"
   ]
  },
  {
   "cell_type": "code",
   "execution_count": 1,
   "metadata": {
    "collapsed": true
   },
   "outputs": [],
   "source": [
    "# Import required packages\n",
    "import numpy as np\n",
    "import scipy.signal as ss\n",
    "import matplotlib.pyplot as plt"
   ]
  },
  {
   "cell_type": "markdown",
   "metadata": {},
   "source": [
    "## Define Transfer Function, and Generate Input\n",
    "Assume we want to simulate the following system:\n",
    "\n",
    "<img src=\"Images/Lowpass.png\">\n",
    "\n",
    "(The system is shown in the MATLAB-Simulink format.)"
   ]
  },
  {
   "cell_type": "code",
   "execution_count": 4,
   "metadata": {
    "collapsed": true
   },
   "outputs": [],
   "source": [
    "# Define transfer function\n",
    "tau = 7\n",
    "num = [1]\n",
    "den = [tau, 1]\n",
    "mySystem = ss.lti(num, den)\n",
    "\n",
    "# Generate inSignal\n",
    "t = np.arange(0,30,0.1)\n",
    "inSignal = np.zeros(t.size)\n",
    "inSignal[t>=5] = 1"
   ]
  },
  {
   "cell_type": "markdown",
   "metadata": {},
   "source": [
    "## Simulate System Response"
   ]
  },
  {
   "cell_type": "code",
   "execution_count": 3,
   "metadata": {
    "collapsed": true
   },
   "outputs": [],
   "source": [
    "# Simulate and plot outSignal\n",
    "tout, outSignal, xout = ss.lsim(mySystem, inSignal, t)"
   ]
  },
  {
   "cell_type": "markdown",
   "metadata": {},
   "source": [
    "*Matlab Equivalen Commands:*\n",
    "\n",
    "    mySystem = tf(num, den);\n",
    "    outSignal = lsim(mySystem, inSignal, t); % The time for the output is the same as for the input"
   ]
  },
  {
   "cell_type": "markdown",
   "metadata": {},
   "source": [
    "## Plot Input and Output"
   ]
  },
  {
   "cell_type": "code",
   "execution_count": 16,
   "metadata": {
    "collapsed": false
   },
   "outputs": [
    {
     "data": {
      "text/plain": [
       "<matplotlib.text.Text at 0x6d85350>"
      ]
     },
     "execution_count": 16,
     "metadata": {},
     "output_type": "execute_result"
    },
    {
     "data": {
      "image/png": "[encoded data removed]",
      "text/plain": [
       "<matplotlib.figure.Figure at 0x9653710>"
      ]
     },
     "metadata": {},
     "output_type": "display_data"
    }
   ],
   "source": [
    "%matplotlib inline\n",
    "plt.plot(t, inSignal, label='Input')\n",
    "plt.plot(tout, outSignal, label='Output')\n",
    "plt.legend(loc='lower right')\n",
    "plt.ylim(0, 1.05)\n",
    "plt.xlabel('Time [sec]')"
   ]
  }
 ],
 "metadata": {
  "kernelspec": {
   "display_name": "Python 3",
   "language": "python",
   "name": "python3"
  },
  "language_info": {
   "codemirror_mode": {
    "name": "ipython",
    "version": 3
   },
   "file_extension": ".py",
   "mimetype": "text/x-python",
   "name": "python",
   "nbconvert_exporter": "python",
   "pygments_lexer": "ipython3",
   "version": "3.5.1"
  }
 },
 "nbformat": 4,
 "nbformat_minor": 0
}
