{
 "cells": [
  {
   "cell_type": "code",
   "execution_count": 4,
   "metadata": {
    "collapsed": false
   },
   "outputs": [],
   "source": [
    "from vpython import *"
   ]
  },
  {
   "cell_type": "code",
   "execution_count": 5,
   "metadata": {
    "collapsed": true
   },
   "outputs": [],
   "source": [
    "import numpy as np\n",
    "\n",
    "inFile = r'D:\\Users\\thomas\\Office\\CSS_Coding\\Python\\Vestibular_Implants\\nose_dir.txt'\n",
    "data = np.loadtxt(inFile)"
   ]
  },
  {
   "cell_type": "code",
   "execution_count": 6,
   "metadata": {
    "collapsed": false
   },
   "outputs": [],
   "source": [
    "cs = curve(pos=[(-2, 0, 0), (2, 0, 0), \n",
    "                           (0, 0, 0), (0, 2, 0), (0, -2, 0),\n",
    "                            (0,0,0), (0, 0, 2), (0,0,-2)])\n",
    "horPlane = curve(pos=[(-2,0,-2), (-2,0,2),(2,0,2),(2,0,-2), (-2,0,-2)])\n",
    "        \n",
    "        \n",
    "xLabel = label(pos=vec(0,0,2), text='X')\n",
    "yLabel = label(pos=vec(2,0,0), text='Y')\n",
    "zLabel = label(pos=vec(0,2,0), text='Z')\n",
    "ii = 0\n",
    "q_arrow = arrow(pos=vec(0,0,0), \n",
    "                axis=vec(1,0,0),\n",
    "                shaftwidth=0.2)"
   ]
  },
  {
   "cell_type": "code",
   "execution_count": 5,
   "metadata": {
    "collapsed": false
   },
   "outputs": [],
   "source": [
    "while ii<len(data)-1:\n",
    "            ii = ii+1\n",
    "            rate(100)\n",
    "            dir_vector = data[ii]\n",
    "            q_arrow.axis=vec(dir_vector[1], dir_vector[2], dir_vector[0])"
   ]
  }
 ],
 "metadata": {
  "kernelspec": {
   "display_name": "VPython",
   "language": "python",
   "name": "vpython"
  },
  "language_info": {
   "codemirror_mode": {
    "name": "ipython",
    "version": 3
   },
   "file_extension": ".py",
   "mimetype": "text/x-python",
   "name": "python",
   "nbconvert_exporter": "python",
   "pygments_lexer": "ipython3",
   "version": "3.5.1"
  }
 },
 "nbformat": 4,
 "nbformat_minor": 0
}
